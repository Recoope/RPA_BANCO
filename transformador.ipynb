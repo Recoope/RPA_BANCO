{
 "cells": [
  {
   "cell_type": "code",
   "execution_count": 37,
   "metadata": {},
   "outputs": [],
   "source": [
    "import psycopg2\n",
    "import pandas as pd\n",
    "import os\n",
    "from dotenv import load_dotenv"
   ]
  },
  {
   "cell_type": "code",
   "execution_count": 38,
   "metadata": {},
   "outputs": [
    {
     "name": "stdout",
     "output_type": "stream",
     "text": [
      "DB_HOST1: recoop-germinare-9764.h.aivencloud.com\n",
      "DB_DATABASE1: BANCO_1ANO\n",
      "DB_USER1: avnadmin\n",
      "DB_PASSWORD1: AVNS_DAFAJWqxMl1ba9hBbcZ\n",
      "DB_PORT1: 16983\n",
      "DB_DATABASE2: defaultdb\n"
     ]
    }
   ],
   "source": [
    "load_dotenv()\n",
    "\n",
    "db_host1 = os.getenv('DB_HOST1')\n",
    "db_database1 = os.getenv('DB_DATABASE1')\n",
    "db_user1 = os.getenv('DB_USER1')\n",
    "db_password1 = os.getenv('DB_PASSWORD1')\n",
    "db_port1 = os.getenv('DB_PORT1')\n",
    "\n",
    "db_database2 = os.getenv('DB_DATABASE2')\n",
    "\n",
    "print(\"DB_HOST1:\", os.getenv('DB_HOST1'))\n",
    "print(\"DB_DATABASE1:\", os.getenv('DB_DATABASE1'))\n",
    "print(\"DB_USER1:\", os.getenv('DB_USER1'))\n",
    "print(\"DB_PASSWORD1:\", os.getenv('DB_PASSWORD1'))\n",
    "print(\"DB_PORT1:\", os.getenv('DB_PORT1'))\n",
    "print(\"DB_DATABASE2:\", os.getenv('DB_DATABASE2'))"
   ]
  },
  {
   "cell_type": "code",
   "execution_count": 39,
   "metadata": {},
   "outputs": [
    {
     "name": "stdout",
     "output_type": "stream",
     "text": [
      "Começando===============================================\n",
      "Conexão estabelecida com sucesso!\n"
     ]
    }
   ],
   "source": [
    "print('Começando===============================================')\n",
    "try:\n",
    "    # Conectar ao banco de dados\n",
    "    conn = psycopg2.connect(\n",
    "        host=db_host1,\n",
    "        database=db_database1,\n",
    "        user=db_user1,\n",
    "        password=db_password1,\n",
    "        port=db_port1\n",
    "    )\n",
    "    print(\"Conexão estabelecida com sucesso!\")\n",
    "except psycopg2.OperationalError as e:\n",
    "    print(f\"Erro ao conectar ao banco de dados: {e}\")\n",
    "    exit()  # Saia se a conexão falhar"
   ]
  },
  {
   "cell_type": "code",
   "execution_count": 40,
   "metadata": {},
   "outputs": [],
   "source": [
    "try:\n",
    "    cursor = conn.cursor()\n",
    "\n",
    "    cursor.execute('''SELECT * FROM Cooperativa''')\n",
    "    results = cursor.fetchall()\n",
    "    \n",
    "    # Criar DataFrame\n",
    "    columns = [desc[0] for desc in cursor.description]\n",
    "    df = pd.DataFrame(results, columns=columns)\n",
    "\n",
    "    cursor.execute('''SELECT * FROM Cooperativa''')\n",
    "    columns = [desc[0] for desc in cursor.description]\n",
    "    results = cursor.fetchall()\n",
    "    df_cooperativa = pd.DataFrame(results, columns=columns)\n",
    "\n",
    "    # cursor.execute('''SELECT * FROM Endereco''')\n",
    "    # columns = [desc[0] for desc in cursor.description]\n",
    "    # results = cursor.fetchall()\n",
    "    # df_endereco = pd.DataFrame(results, columns=columns)\n",
    "\n",
    "    # cursor.execute('''SELECT * FROM Leilao''')\n",
    "    # columns = [desc[0] for desc in cursor.description]\n",
    "    # results = cursor.fetchall()\n",
    "    # df_leilao = pd.DataFrame(results, columns=columns)\n",
    "\n",
    "    # cursor.execute('''SELECT * FROM Lance''')\n",
    "    # columns = [desc[0] for desc in cursor.description]\n",
    "    # results = cursor.fetchall()\n",
    "    # df_lance = pd.DataFrame(results, columns=columns)\n",
    "\n",
    "    # cursor.execute('''SELECT * FROM Produto''')\n",
    "    # columns = [desc[0] for desc in cursor.description]\n",
    "    # results = cursor.fetchall()\n",
    "    # df_produto = pd.DataFrame(results, columns=columns)\n",
    "\n",
    "    # cursor.execute('''SELECT * FROM Imagens''')\n",
    "    # columns = [desc[0] for desc in cursor.description]\n",
    "    # results = cursor.fetchall()\n",
    "    # df_foto = pd.DataFrame(results, columns=columns)\n",
    "    \n",
    "finally:\n",
    "    # Fechar o cursor e a conexão\n",
    "    cursor.close()\n",
    "    conn.close()"
   ]
  },
  {
   "cell_type": "code",
   "execution_count": 41,
   "metadata": {},
   "outputs": [
    {
     "data": {
      "text/html": [
       "<div>\n",
       "<style scoped>\n",
       "    .dataframe tbody tr th:only-of-type {\n",
       "        vertical-align: middle;\n",
       "    }\n",
       "\n",
       "    .dataframe tbody tr th {\n",
       "        vertical-align: top;\n",
       "    }\n",
       "\n",
       "    .dataframe thead th {\n",
       "        text-align: right;\n",
       "    }\n",
       "</style>\n",
       "<table border=\"1\" class=\"dataframe\">\n",
       "  <thead>\n",
       "    <tr style=\"text-align: right;\">\n",
       "      <th></th>\n",
       "      <th>id_cooperativa</th>\n",
       "      <th>cnpj</th>\n",
       "      <th>nome</th>\n",
       "      <th>email</th>\n",
       "      <th>senha</th>\n",
       "      <th>telefone</th>\n",
       "    </tr>\n",
       "  </thead>\n",
       "  <tbody>\n",
       "    <tr>\n",
       "      <th>0</th>\n",
       "      <td>1</td>\n",
       "      <td>12345678901243</td>\n",
       "      <td>Cooperativa X</td>\n",
       "      <td>contato@cooperativax.com</td>\n",
       "      <td>senha1234</td>\n",
       "      <td>1198765432</td>\n",
       "    </tr>\n",
       "    <tr>\n",
       "      <th>1</th>\n",
       "      <td>2</td>\n",
       "      <td>98425102841331</td>\n",
       "      <td>Cooperativa Y</td>\n",
       "      <td>contato@cooperativay.com</td>\n",
       "      <td>senha5678</td>\n",
       "      <td>2198765432</td>\n",
       "    </tr>\n",
       "    <tr>\n",
       "      <th>2</th>\n",
       "      <td>3</td>\n",
       "      <td>81437551000231</td>\n",
       "      <td>Cooperativa C</td>\n",
       "      <td>contato@cooperativac.com</td>\n",
       "      <td>senha6745</td>\n",
       "      <td>3456789012</td>\n",
       "    </tr>\n",
       "    <tr>\n",
       "      <th>3</th>\n",
       "      <td>4</td>\n",
       "      <td>10987654322413</td>\n",
       "      <td>Cooperativa Z</td>\n",
       "      <td>contato@cooperativaz.com</td>\n",
       "      <td>senha9123</td>\n",
       "      <td>4567890123</td>\n",
       "    </tr>\n",
       "    <tr>\n",
       "      <th>4</th>\n",
       "      <td>5</td>\n",
       "      <td>54637281903419</td>\n",
       "      <td>Cooperativa D</td>\n",
       "      <td>contato@cooperativad.com</td>\n",
       "      <td>senha7346</td>\n",
       "      <td>5678901234</td>\n",
       "    </tr>\n",
       "    <tr>\n",
       "      <th>5</th>\n",
       "      <td>6</td>\n",
       "      <td>56473839102934</td>\n",
       "      <td>Cooperativa I</td>\n",
       "      <td>contato@cooperativai.com</td>\n",
       "      <td>senha0157</td>\n",
       "      <td>6789012345</td>\n",
       "    </tr>\n",
       "  </tbody>\n",
       "</table>\n",
       "</div>"
      ],
      "text/plain": [
       "   id_cooperativa            cnpj           nome                     email  \\\n",
       "0               1  12345678901243  Cooperativa X  contato@cooperativax.com   \n",
       "1               2  98425102841331  Cooperativa Y  contato@cooperativay.com   \n",
       "2               3  81437551000231  Cooperativa C  contato@cooperativac.com   \n",
       "3               4  10987654322413  Cooperativa Z  contato@cooperativaz.com   \n",
       "4               5  54637281903419  Cooperativa D  contato@cooperativad.com   \n",
       "5               6  56473839102934  Cooperativa I  contato@cooperativai.com   \n",
       "\n",
       "       senha    telefone  \n",
       "0  senha1234  1198765432  \n",
       "1  senha5678  2198765432  \n",
       "2  senha6745  3456789012  \n",
       "3  senha9123  4567890123  \n",
       "4  senha7346  5678901234  \n",
       "5  senha0157  6789012345  "
      ]
     },
     "metadata": {},
     "output_type": "display_data"
    }
   ],
   "source": [
    "display(df_cooperativa)"
   ]
  },
  {
   "cell_type": "code",
   "execution_count": 42,
   "metadata": {},
   "outputs": [
    {
     "name": "stdout",
     "output_type": "stream",
     "text": [
      "Começando===============================================\n",
      "Conexão estabelecida com sucesso!\n"
     ]
    }
   ],
   "source": [
    "print('Começando===============================================')\n",
    "try:\n",
    "    # Conectar ao banco de dados\n",
    "    conn = psycopg2.connect(\n",
    "        host=db_host1,\n",
    "        database=db_database2,\n",
    "        user=db_user1,\n",
    "        password=db_password1,\n",
    "        port=db_port1\n",
    "    )\n",
    "    print(\"Conexão estabelecida com sucesso!\")\n",
    "except psycopg2.OperationalError as e:\n",
    "    print(f\"Erro ao conectar ao banco de dados: {e}\")\n",
    "    exit()  # Saia se a conexão falhar"
   ]
  },
  {
   "cell_type": "code",
   "execution_count": 43,
   "metadata": {},
   "outputs": [
    {
     "name": "stdout",
     "output_type": "stream",
     "text": [
      "Erro ao executar a procedure: Senha menor que 8 dígitos ou não tem numeros ou não possui caracteres especiais!!!\n",
      "CONTEXT:  PL/pgSQL function insert_cooperativa(character varying,character varying,character varying,character varying) line 9 at RAISE\n",
      "\n"
     ]
    }
   ],
   "source": [
    "try:\n",
    "    cursor = conn.cursor()\n",
    "\n",
    "    cursor.execute('DELETE FROM cooperativa') # deleta todos os registros para garantir que não vai pegar dados duplicados e garante que todos os valores do banco apagados ou alterados seram registrados\n",
    "                   \n",
    "    for i in range(len(df_cooperativa)):\n",
    "        cursor.execute('CALL insert_cooperativa(%s, %s, %s, %s)', \n",
    "                       (df_cooperativa['cnpj'][i], df_cooperativa['nome'][i], df_cooperativa['email'][i], df_cooperativa['senha'][i]))\n",
    "\n",
    "    # Confirme as alterações\n",
    "    conn.commit()\n",
    "    print(\"Deu Green\")\n",
    "except Exception as e:\n",
    "    print(f\"Erro ao executar a procedure: {e}\")\n",
    "    conn.rollback()\n",
    "finally:\n",
    "    cursor.close()\n",
    "    conn.close()"
   ]
  },
  {
   "cell_type": "code",
   "execution_count": 44,
   "metadata": {},
   "outputs": [],
   "source": [
    "cursor.close()\n",
    "conn.close()"
   ]
  },
  {
   "cell_type": "markdown",
   "metadata": {},
   "source": [
    "# Apartir daqui não vamos mais usar, mas esta ai por que talvez seja util."
   ]
  },
  {
   "cell_type": "code",
   "execution_count": 45,
   "metadata": {},
   "outputs": [],
   "source": [
    "# display(df_produto)\n",
    "# display(df_leilao)\n",
    "# display(df_lance)\n",
    "# display(df_foto)"
   ]
  },
  {
   "cell_type": "code",
   "execution_count": 46,
   "metadata": {},
   "outputs": [],
   "source": [
    "# # tipo_produto varchar,\n",
    "# #     valor_inicial_produto numeric,\n",
    "# #     valor_final_produto numeric,\n",
    "# #     peso_produto numeric,\n",
    "# #     foto_produto varchar\n",
    "\n",
    "# try:\n",
    "#     cursor = conn.cursor()\n",
    "\n",
    "#     for i in range(len(df_produto)):\n",
    "#         cursor.execute('''INSERT INTO produto (tipo_produto, valor_inicial_produto, peso_produto, foto_produto) \n",
    "#                        VALUES (%s, %s, %s,%s)''', \n",
    "#                 (df_produto['material'][i],df_leilao['valor_inicial'][i], df_produto['peso'][i],df_foto['url'][i]))\n",
    "\n",
    "#     # Confirme as alterações\n",
    "#     conn.commit()\n",
    "#     print(\"Deu Green\")\n",
    "# except Exception as e:\n",
    "#     print(f\"Erro ao executar a procedure: {e}\")\n",
    "#     conn.rollback()\n",
    "# finally:\n",
    "#     # Fechar o cursor e a conexão\n",
    "#     cursor.close()\n",
    "#     conn.close()"
   ]
  },
  {
   "cell_type": "code",
   "execution_count": 47,
   "metadata": {},
   "outputs": [],
   "source": [
    "# display(df_leilao)"
   ]
  },
  {
   "cell_type": "code",
   "execution_count": 48,
   "metadata": {},
   "outputs": [],
   "source": [
    "# # tipo_produto varchar,\n",
    "# #     valor_inicial_produto numeric,\n",
    "# #     valor_final_produto numeric,\n",
    "# #     peso_produto numeric,\n",
    "# #     foto_produto varchar\n",
    "\n",
    "# try:\n",
    "#     cursor = conn.cursor()\n",
    "\n",
    "#     for i in range(len(df_produto)):\n",
    "#         cursor.execute('''INSERT INTO produto (tipo_produto, valor_inicial_produto, peso_produto, foto_produto) \n",
    "#                        VALUES (%s, %s, %s,%s)''', \n",
    "#                 (df_produto['material'][i],df_leilao['valor_inicial'][i], df_produto['peso'][i],df_foto['url'][i]))\n",
    "\n",
    "#     # Confirme as alterações\n",
    "#     conn.commit()\n",
    "#     print(\"Deu Green\")\n",
    "# except Exception as e:\n",
    "#     print(f\"Erro ao executar a procedure: {e}\")\n",
    "#     conn.rollback()\n",
    "# finally:\n",
    "#     # Fechar o cursor e a conexão\n",
    "#     cursor.close()\n",
    "#     conn.close()"
   ]
  },
  {
   "cell_type": "code",
   "execution_count": 49,
   "metadata": {},
   "outputs": [],
   "source": [
    "# try:\n",
    "#     cursor = conn.cursor()\n",
    "\n",
    "# #   (lan_valor numeric, lan_data_lance date, lan_cnpj_empresa varchar, leilao_data_inicio date, leilao_data_fim date, lan_id_leilao int)\n",
    "#     for i in range(len(df_leilao)):\n",
    "#         cursor.execute('CALL insert_leilao(%s::numeric, %s::date, %s::varchar, %s::date, %s::date, %s::int)',\n",
    "#                     (df_leilao['valor_inicial'][i], df_leilao['data_inicio'][i], df_leilao['detalhes'][i], \n",
    "#                         df_leilao['data_inicio'][i], df_leilao['data_fim'][i], int(df_leilao['id_endereco'][i])))\n",
    "\n",
    "#     # Confirme as alterações\n",
    "#     conn.commit()\n",
    "#     print(\"Deu Green\")\n",
    "# except Exception as e:\n",
    "#     print(f\"Erro ao executar a procedure: {e}\")\n",
    "#     conn.rollback()\n",
    "# finally:\n",
    "#     # Fechar o cursor e a conexão\n",
    "#     cursor.close()\n",
    "#     conn.close()"
   ]
  }
 ],
 "metadata": {
  "kernelspec": {
   "display_name": "Python 3",
   "language": "python",
   "name": "python3"
  },
  "language_info": {
   "codemirror_mode": {
    "name": "ipython",
    "version": 3
   },
   "file_extension": ".py",
   "mimetype": "text/x-python",
   "name": "python",
   "nbconvert_exporter": "python",
   "pygments_lexer": "ipython3",
   "version": "3.12.1"
  }
 },
 "nbformat": 4,
 "nbformat_minor": 2
}
