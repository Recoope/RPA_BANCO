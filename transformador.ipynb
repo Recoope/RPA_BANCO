{
 "cells": [
  {
   "cell_type": "code",
   "execution_count": 1,
   "metadata": {},
   "outputs": [
    {
     "ename": "ModuleNotFoundError",
     "evalue": "No module named 'pandas'",
     "output_type": "error",
     "traceback": [
      "\u001b[1;31m---------------------------------------------------------------------------\u001b[0m",
      "\u001b[1;31mModuleNotFoundError\u001b[0m                       Traceback (most recent call last)",
      "Cell \u001b[1;32mIn[1], line 2\u001b[0m\n\u001b[0;32m      1\u001b[0m \u001b[38;5;28;01mimport\u001b[39;00m \u001b[38;5;21;01mpsycopg2\u001b[39;00m\n\u001b[1;32m----> 2\u001b[0m \u001b[38;5;28;01mimport\u001b[39;00m \u001b[38;5;21;01mpandas\u001b[39;00m \u001b[38;5;28;01mas\u001b[39;00m \u001b[38;5;21;01mpd\u001b[39;00m\n\u001b[0;32m      3\u001b[0m \u001b[38;5;28;01mimport\u001b[39;00m \u001b[38;5;21;01mos\u001b[39;00m\n",
      "\u001b[1;31mModuleNotFoundError\u001b[0m: No module named 'pandas'"
     ]
    }
   ],
   "source": [
    "import psycopg2\n",
    "import pandas as pd\n",
    "import os"
   ]
  },
  {
   "cell_type": "code",
   "execution_count": 2,
   "metadata": {},
   "outputs": [],
   "source": [
    "db_host1 = os.getenv('DB_HOST1')\n",
    "db_database1 = os.getenv('DB_DATABASE1')\n",
    "db_user1 = os.getenv('DB_USER1')\n",
    "db_password1 = os.getenv('DB_PASSWORD1')\n",
    "db_port1 = os.getenv('DB_PORT1')\n",
    "\n",
    "db_database2 = os.getenv('DB_DATABASE2')"
   ]
  },
  {
   "cell_type": "code",
   "execution_count": 3,
   "metadata": {},
   "outputs": [
    {
     "name": "stdout",
     "output_type": "stream",
     "text": [
      "Começando===============================================\n",
      "Erro ao conectar ao banco de dados: connection to server at \"localhost\" (::1), port 5432 failed: fe_sendauth: no password supplied\n",
      "\n"
     ]
    }
   ],
   "source": [
    "print('Começando===============================================')\n",
    "try:\n",
    "    # Conectar ao banco de dados\n",
    "    conn = psycopg2.connect(\n",
    "        host=db_host1,\n",
    "        database=db_database1,\n",
    "        user=db_user1,\n",
    "        password=db_password1,\n",
    "        port=db_port1\n",
    "    )\n",
    "    print(\"Conexão estabelecida com sucesso!\")\n",
    "except psycopg2.OperationalError as e:\n",
    "    print(f\"Erro ao conectar ao banco de dados: {e}\")\n",
    "    exit()  # Saia se a conexão falhar"
   ]
  },
  {
   "cell_type": "code",
   "execution_count": 4,
   "metadata": {},
   "outputs": [
    {
     "ename": "NameError",
     "evalue": "name 'cursor' is not defined",
     "output_type": "error",
     "traceback": [
      "\u001b[1;31m---------------------------------------------------------------------------\u001b[0m",
      "\u001b[1;31mNameError\u001b[0m                                 Traceback (most recent call last)",
      "Cell \u001b[1;32mIn[4], line 2\u001b[0m\n\u001b[0;32m      1\u001b[0m \u001b[38;5;28;01mtry\u001b[39;00m:\n\u001b[1;32m----> 2\u001b[0m     cursor \u001b[38;5;241m=\u001b[39m \u001b[43mconn\u001b[49m\u001b[38;5;241m.\u001b[39mcursor()\n\u001b[0;32m      4\u001b[0m     cursor\u001b[38;5;241m.\u001b[39mexecute(\u001b[38;5;124m'''\u001b[39m\u001b[38;5;124mSELECT * FROM Cooperativa\u001b[39m\u001b[38;5;124m'''\u001b[39m)\n",
      "\u001b[1;31mNameError\u001b[0m: name 'conn' is not defined",
      "\nDuring handling of the above exception, another exception occurred:\n",
      "\u001b[1;31mNameError\u001b[0m                                 Traceback (most recent call last)",
      "Cell \u001b[1;32mIn[4], line 43\u001b[0m\n\u001b[0;32m     14\u001b[0m     df_cooperativa \u001b[38;5;241m=\u001b[39m pd\u001b[38;5;241m.\u001b[39mDataFrame(results, columns\u001b[38;5;241m=\u001b[39mcolumns)\n\u001b[0;32m     16\u001b[0m     \u001b[38;5;66;03m# cursor.execute('''SELECT * FROM Endereco''')\u001b[39;00m\n\u001b[0;32m     17\u001b[0m     \u001b[38;5;66;03m# columns = [desc[0] for desc in cursor.description]\u001b[39;00m\n\u001b[0;32m     18\u001b[0m     \u001b[38;5;66;03m# results = cursor.fetchall()\u001b[39;00m\n\u001b[1;32m   (...)\u001b[0m\n\u001b[0;32m     41\u001b[0m \u001b[38;5;28;01mfinally\u001b[39;00m:\n\u001b[0;32m     42\u001b[0m     \u001b[38;5;66;03m# Fechar o cursor e a conexão\u001b[39;00m\n\u001b[1;32m---> 43\u001b[0m     \u001b[43mcursor\u001b[49m\u001b[38;5;241m.\u001b[39mclose()\n\u001b[0;32m     44\u001b[0m     conn\u001b[38;5;241m.\u001b[39mclose()\n",
      "\u001b[1;31mNameError\u001b[0m: name 'cursor' is not defined"
     ]
    },
    {
     "ename": "",
     "evalue": "",
     "output_type": "error",
     "traceback": [
      "\u001b[1;31mThe Kernel crashed while executing code in the current cell or a previous cell. \n",
      "\u001b[1;31mPlease review the code in the cell(s) to identify a possible cause of the failure. \n",
      "\u001b[1;31mClick <a href='https://aka.ms/vscodeJupyterKernelCrash'>here</a> for more info. \n",
      "\u001b[1;31mView Jupyter <a href='command:jupyter.viewOutput'>log</a> for further details."
     ]
    }
   ],
   "source": [
    "try:\n",
    "    cursor = conn.cursor()\n",
    "\n",
    "    cursor.execute('''SELECT * FROM Cooperativa''')\n",
    "    results = cursor.fetchall()\n",
    "    \n",
    "    # Criar DataFrame\n",
    "    columns = [desc[0] for desc in cursor.description]\n",
    "    df = pd.DataFrame(results, columns=columns)\n",
    "\n",
    "    cursor.execute('''SELECT * FROM Cooperativa''')\n",
    "    columns = [desc[0] for desc in cursor.description]\n",
    "    results = cursor.fetchall()\n",
    "    df_cooperativa = pd.DataFrame(results, columns=columns)\n",
    "\n",
    "    # cursor.execute('''SELECT * FROM Endereco''')\n",
    "    # columns = [desc[0] for desc in cursor.description]\n",
    "    # results = cursor.fetchall()\n",
    "    # df_endereco = pd.DataFrame(results, columns=columns)\n",
    "\n",
    "    # cursor.execute('''SELECT * FROM Leilao''')\n",
    "    # columns = [desc[0] for desc in cursor.description]\n",
    "    # results = cursor.fetchall()\n",
    "    # df_leilao = pd.DataFrame(results, columns=columns)\n",
    "\n",
    "    # cursor.execute('''SELECT * FROM Lance''')\n",
    "    # columns = [desc[0] for desc in cursor.description]\n",
    "    # results = cursor.fetchall()\n",
    "    # df_lance = pd.DataFrame(results, columns=columns)\n",
    "\n",
    "    # cursor.execute('''SELECT * FROM Produto''')\n",
    "    # columns = [desc[0] for desc in cursor.description]\n",
    "    # results = cursor.fetchall()\n",
    "    # df_produto = pd.DataFrame(results, columns=columns)\n",
    "\n",
    "    # cursor.execute('''SELECT * FROM Imagens''')\n",
    "    # columns = [desc[0] for desc in cursor.description]\n",
    "    # results = cursor.fetchall()\n",
    "    # df_foto = pd.DataFrame(results, columns=columns)\n",
    "    \n",
    "finally:\n",
    "    # Fechar o cursor e a conexão\n",
    "    cursor.close()\n",
    "    conn.close()"
   ]
  },
  {
   "cell_type": "code",
   "execution_count": null,
   "metadata": {},
   "outputs": [],
   "source": [
    "display(df_cooperativa)"
   ]
  },
  {
   "cell_type": "code",
   "execution_count": null,
   "metadata": {},
   "outputs": [],
   "source": [
    "print('Começando===============================================')\n",
    "try:\n",
    "    # Conectar ao banco de dados\n",
    "    conn = psycopg2.connect(\n",
    "        host=db_host1,\n",
    "        database=db_database2,\n",
    "        user=db_user1,\n",
    "        password=db_password1,\n",
    "        port=db_port1\n",
    "    )\n",
    "    print(\"Conexão estabelecida com sucesso!\")\n",
    "except psycopg2.OperationalError as e:\n",
    "    print(f\"Erro ao conectar ao banco de dados: {e}\")\n",
    "    exit()  # Saia se a conexão falhar"
   ]
  },
  {
   "cell_type": "code",
   "execution_count": null,
   "metadata": {},
   "outputs": [],
   "source": [
    "try:\n",
    "    cursor = conn.cursor()\n",
    "\n",
    "    cursor.execute('DELETE FROM cooperativa') # deleta todos os registros para garantir que não vai pegar dados duplicados e garante que todos os valores do banco apagados ou alterados seram registrados\n",
    "                   \n",
    "    for i in range(len(df_cooperativa)):\n",
    "        cursor.execute('CALL insert_cooperativa(%s, %s, %s, %s)', \n",
    "                       (df_cooperativa['cnpj'][i], df_cooperativa['nome'][i], df_cooperativa['email'][i], df_cooperativa['senha'][i]))\n",
    "\n",
    "    # Confirme as alterações\n",
    "    conn.commit()\n",
    "    print(\"Deu Green\")\n",
    "except Exception as e:\n",
    "    print(f\"Erro ao executar a procedure: {e}\")\n",
    "    conn.rollback()\n",
    "finally:\n",
    "    cursor.close()\n",
    "    conn.close()"
   ]
  },
  {
   "cell_type": "code",
   "execution_count": null,
   "metadata": {},
   "outputs": [],
   "source": [
    "cursor.close()\n",
    "conn.close()"
   ]
  },
  {
   "cell_type": "markdown",
   "metadata": {},
   "source": [
    "# Apartir daqui não vamos mais usar, mas esta ai por que talvez seja util."
   ]
  },
  {
   "cell_type": "code",
   "execution_count": null,
   "metadata": {},
   "outputs": [],
   "source": [
    "# display(df_produto)\n",
    "# display(df_leilao)\n",
    "# display(df_lance)\n",
    "# display(df_foto)"
   ]
  },
  {
   "cell_type": "code",
   "execution_count": null,
   "metadata": {},
   "outputs": [],
   "source": [
    "# # tipo_produto varchar,\n",
    "# #     valor_inicial_produto numeric,\n",
    "# #     valor_final_produto numeric,\n",
    "# #     peso_produto numeric,\n",
    "# #     foto_produto varchar\n",
    "\n",
    "# try:\n",
    "#     cursor = conn.cursor()\n",
    "\n",
    "#     for i in range(len(df_produto)):\n",
    "#         cursor.execute('''INSERT INTO produto (tipo_produto, valor_inicial_produto, peso_produto, foto_produto) \n",
    "#                        VALUES (%s, %s, %s,%s)''', \n",
    "#                 (df_produto['material'][i],df_leilao['valor_inicial'][i], df_produto['peso'][i],df_foto['url'][i]))\n",
    "\n",
    "#     # Confirme as alterações\n",
    "#     conn.commit()\n",
    "#     print(\"Deu Green\")\n",
    "# except Exception as e:\n",
    "#     print(f\"Erro ao executar a procedure: {e}\")\n",
    "#     conn.rollback()\n",
    "# finally:\n",
    "#     # Fechar o cursor e a conexão\n",
    "#     cursor.close()\n",
    "#     conn.close()"
   ]
  },
  {
   "cell_type": "code",
   "execution_count": null,
   "metadata": {},
   "outputs": [],
   "source": [
    "# display(df_leilao)"
   ]
  },
  {
   "cell_type": "code",
   "execution_count": null,
   "metadata": {},
   "outputs": [],
   "source": [
    "# # tipo_produto varchar,\n",
    "# #     valor_inicial_produto numeric,\n",
    "# #     valor_final_produto numeric,\n",
    "# #     peso_produto numeric,\n",
    "# #     foto_produto varchar\n",
    "\n",
    "# try:\n",
    "#     cursor = conn.cursor()\n",
    "\n",
    "#     for i in range(len(df_produto)):\n",
    "#         cursor.execute('''INSERT INTO produto (tipo_produto, valor_inicial_produto, peso_produto, foto_produto) \n",
    "#                        VALUES (%s, %s, %s,%s)''', \n",
    "#                 (df_produto['material'][i],df_leilao['valor_inicial'][i], df_produto['peso'][i],df_foto['url'][i]))\n",
    "\n",
    "#     # Confirme as alterações\n",
    "#     conn.commit()\n",
    "#     print(\"Deu Green\")\n",
    "# except Exception as e:\n",
    "#     print(f\"Erro ao executar a procedure: {e}\")\n",
    "#     conn.rollback()\n",
    "# finally:\n",
    "#     # Fechar o cursor e a conexão\n",
    "#     cursor.close()\n",
    "#     conn.close()"
   ]
  },
  {
   "cell_type": "code",
   "execution_count": null,
   "metadata": {},
   "outputs": [],
   "source": [
    "# try:\n",
    "#     cursor = conn.cursor()\n",
    "\n",
    "# #   (lan_valor numeric, lan_data_lance date, lan_cnpj_empresa varchar, leilao_data_inicio date, leilao_data_fim date, lan_id_leilao int)\n",
    "#     for i in range(len(df_leilao)):\n",
    "#         cursor.execute('CALL insert_leilao(%s::numeric, %s::date, %s::varchar, %s::date, %s::date, %s::int)',\n",
    "#                     (df_leilao['valor_inicial'][i], df_leilao['data_inicio'][i], df_leilao['detalhes'][i], \n",
    "#                         df_leilao['data_inicio'][i], df_leilao['data_fim'][i], int(df_leilao['id_endereco'][i])))\n",
    "\n",
    "#     # Confirme as alterações\n",
    "#     conn.commit()\n",
    "#     print(\"Deu Green\")\n",
    "# except Exception as e:\n",
    "#     print(f\"Erro ao executar a procedure: {e}\")\n",
    "#     conn.rollback()\n",
    "# finally:\n",
    "#     # Fechar o cursor e a conexão\n",
    "#     cursor.close()\n",
    "#     conn.close()"
   ]
  }
 ],
 "metadata": {
  "kernelspec": {
   "display_name": "Python 3",
   "language": "python",
   "name": "python3"
  },
  "language_info": {
   "codemirror_mode": {
    "name": "ipython",
    "version": 3
   },
   "file_extension": ".py",
   "mimetype": "text/x-python",
   "name": "python",
   "nbconvert_exporter": "python",
   "pygments_lexer": "ipython3",
   "version": "3.12.1"
  }
 },
 "nbformat": 4,
 "nbformat_minor": 2
}
